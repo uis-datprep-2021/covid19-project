{
 "cells": [
  {
   "cell_type": "markdown",
   "id": "fef5a3fb",
   "metadata": {
    "editable": true
   },
   "source": [
    "<!-- File automatically generated using DocOnce (https://github.com/doconce/doconce/):\n",
    "doconce format ipynb covid19.do.txt --html_style=solarized -->\n",
    "\n",
    "# COVID-19: Comparing data to a simple compartment model\n",
    "**Aksel Hiorth**  \n",
    "**Oddbjørn Nødland**\n",
    "\n",
    "Date: **August 2022**"
   ]
  },
  {
   "cell_type": "code",
   "execution_count": 1,
   "id": "a67793fa",
   "metadata": {
    "collapsed": false,
    "editable": true
   },
   "outputs": [],
   "source": [
    "%matplotlib inline\n",
    "\n",
    "# Import from standard library:\n",
    "import pathlib\n",
    "\n",
    "# Import other  stuff:\n",
    "import matplotlib.pyplot as plt\n",
    "import numpy as np\n",
    "import pandas as pd\n",
    "import scipy as sp\n",
    "import os"
   ]
  },
  {
   "cell_type": "markdown",
   "id": "c8ee7b5a",
   "metadata": {
    "editable": true
   },
   "source": [
    "**Learning objectives.**\n",
    "By completing this project, the student will:\n",
    "* Learn to import data into [pandas](https://pandas.pydata.org) DataFrames.\n",
    "\n",
    "* Write simple functions to generate plots, and inspect data visually.\n",
    "\n",
    "* Constrain model parameters by comparing model output with data.\n",
    "\n",
    "* Reflect on strengths and weaknesses of simple models for complex phenomena.\n",
    "\n",
    "**Project overview.**\n",
    "In this introductory project we are modelling the first 250 days of the Corona\n",
    "virus (SARS-CoV-2) outbreak.\n",
    "The model we are going to use is probably the simplest one possible,\n",
    "and you are encouraged to keep this in mind as you reflect on what the model\n",
    "can, and cannot, say.\n",
    "\n",
    "All later projects in the course MOD510 will look very much like this one.\n",
    "Therefore, working on this project should give you a good start."
   ]
  },
  {
   "cell_type": "markdown",
   "id": "e5bfe232",
   "metadata": {
    "editable": true
   },
   "source": [
    "# Downloading COVID-19 statistics\n",
    "\n",
    "Data on the Corona virus are readily available, e.g., good visualizations\n",
    "of the global situation can be found at the\n",
    "[Johns Hopkins Coronavirus Resource Center](https://coronavirus.jhu.edu/map.html).\n",
    "\n",
    "For the purpose of this project, we have already downloaded country-level data\n",
    "for you, and stored it in a processed format in the text file `data/corona_data.dat`.\n",
    "Data for the Hubei province in China, where it is believed that the virus\n",
    "first arose [[xiao2021animal;@pekar2022molecular;@worobey2022huanan]](#xiao2021animal;@pekar2022molecular;@worobey2022huanan),\n",
    "is included in the text file.\n",
    "The reason for doing so is that while the original data were organized by date\n",
    "since January 22 2020, we would like to plot the data versus the time of\n",
    "*the first confirmed case*. This makes it easier to apply the same model to\n",
    "different locations.\n",
    "Note that we have *not* downloaded the most recent data. If you wish to\n",
    "inspect the latest data, you are encouraged to checkout the Github\n",
    "repository [Center for Systems Science and Engineering (CSSE) at Johns Hopkins University](https://github.com/CSSEGISandData/COVID-19).\n",
    "\n",
    "<!-- dom:FIGURE: [fig-covid19/dashboard_covid19.jpg, width=400 frac=1.0] A screenshot of the COVID-19 Dashboard from Johns Hopkins Coronavirus Resource Center. <div id=\"fig:jh\"></div> -->\n",
    "<!-- begin figure -->\n",
    "<div id=\"fig:jh\"></div>\n",
    "\n",
    "<img src=\"fig-covid19/dashboard_covid19.jpg\" width=\"400\"><p style=\"font-size: 0.9em\"><i>Figure 1: A screenshot of the COVID-19 Dashboard from Johns Hopkins Coronavirus Resource Center.</i></p>\n",
    "<!-- end figure -->"
   ]
  },
  {
   "cell_type": "markdown",
   "id": "43a8ef0c",
   "metadata": {
    "editable": true
   },
   "source": [
    "# Exercise 1: Loading data into data frames\n",
    "\n",
    "Next, we want you to get familiar with the data.\n",
    "The relevant text file, `corona_data.dat`, is located in a separate directory\n",
    "called `data`. We are going to use the [pandas library](https://pandas.pydata.org/)\n",
    "to read the data from the text file into a\n",
    "[DataFrame object](https://pandas.pydata.org/pandas-docs/stable/reference/api/pandas.DataFrame.html).\n",
    "Pandas is a very flexible library, but we will only use it in a very\n",
    "limited way in this project.\n",
    "\n",
    "**<font color=\"black\">A note regarding the use of libraries</font>.**\n",
    "\n",
    "There are many Python libraries out there, but a good advice is to use no\n",
    "more libraries than necessary. For scientific computing there are a few libraries\n",
    "that are used by almost everyone, the most important being [NumPy](https://numpy.org).\n",
    "Numpy is based on well-optimized C code, and it is designed to perform heavy\n",
    "numerical computations faster than native Python.\n",
    "If you see code that uses a different library to achieve something,\n",
    "ask yourself if the same thing could have been done with Numpy.\n",
    "Another important reason to prefer Numpy is that the syntax is known\n",
    "to almost everyone, which makes it quite easy for other people to read and\n",
    "understand your code by visual inspection.\n",
    "\n",
    "Of course, some tasks are best performed by other libraries. As you will see in\n",
    "this introductory project, [pandas](https://pandas.pydata.org/) lets you read\n",
    "data from files using very few lines of code.\n",
    "When doing more advanced tasks involving the file system and installed programs\n",
    "on your computer, the [pathlib library](https://docs.python.org/3/library/pathlib.html)\n",
    "is very powerful, as is the [os module](https://docs.python.org/3/library/os.html).\n",
    "For plotting, [matplotlib](https://matplotlib.org) is where most\n",
    "Python programmers begin their journey.\n",
    "\n",
    "**Part 1.**\n",
    "\n",
    "Execute the following lines of code"
   ]
  },
  {
   "cell_type": "code",
   "execution_count": 2,
   "id": "445ea20e",
   "metadata": {
    "collapsed": false,
    "editable": true
   },
   "outputs": [],
   "source": [
    "df = pd.read_csv(\"../data/corona_data.dat\", sep=\"\\t\")\n",
    "print(df)  # In Jupyter notebooks, you get nice output with just: df"
   ]
  },
  {
   "cell_type": "markdown",
   "id": "bbb17de1",
   "metadata": {
    "editable": true
   },
   "source": [
    "* What does the code do? Compare the output with what you see if you open the file `corona_data.dat` in a text editor.\n",
    "\n",
    "* What happens if you remove `sep=\"\\t\"`?\n",
    "\n",
    "**Part 2.**\n",
    "\n",
    "So far, we have read COVID-19 data from every country, however we are not\n",
    "usually only interested in a subset of the data. Run the following code:"
   ]
  },
  {
   "cell_type": "code",
   "execution_count": 3,
   "id": "cc5695ec",
   "metadata": {
    "collapsed": false,
    "editable": true
   },
   "outputs": [],
   "source": [
    "is_specific_country = (df[\"LOCATION\"] == \"Afghanistan\")\n",
    "df = df[is_specific_country]\n",
    "print(df)"
   ]
  },
  {
   "cell_type": "markdown",
   "id": "4c0b76f1",
   "metadata": {
    "editable": true
   },
   "source": [
    "* Explain what the code does.\n",
    "\n",
    "* What kind of an object is `df`? (Find out how you can get Python to tell it to you if you did not know it already).\n",
    "\n",
    "**Part 3.**\n",
    "\n",
    "* Write a Python function that takes as input 1) the full DateFrame with data and 2) a specific place country or province. The function should only return the data for that location.\n",
    "\n",
    "Alternatively, you may try to specify the path to the datafile as input\n",
    "argument instead of assuming you already have a DataFrame.\n",
    "\n",
    "* Can you think of any disadvantages of doing this?\n",
    "\n",
    "**<font color=\"black\">A note regarding copying code</font>.**\n",
    "\n",
    "To copy and paste code can often help you get quickly started on a programming\n",
    "problem. We all do it. However, if you really want to mature as a programmer,\n",
    "you should try to limit how often you do it. First, if you are not\n",
    "careful about \"borrowing\" code from others, it could have legal repercussions.\n",
    "Second, copying code might prevent you from achieving a good understanding of\n",
    "the problem you are working on: especially when using code developed by others,\n",
    "you should strive to *understand* the individual steps of the code, as far as\n",
    "it is practical to do so (usually, you do not have to worry about internal\n",
    "implementation details of the core libraries you are using).\n",
    "If you are able to get a good understanding of what a piece of code does, you\n",
    "will later be able extend it in new directions, and/or to simplify it by\n",
    "removing unnecessary steps.\n",
    "\n",
    "Even when you write all the code yourself, you may find yourself copying and\n",
    "pasting the same (or very similar) code many times over. This is usually a\n",
    "[clear sign](https://en.wikipedia.org/wiki/Don%27t_repeat_yourself) that you\n",
    "should think about making a function.\n",
    "By moving repeated code blocks into a function, you can reduce code duplication.\n",
    "If you ever need to make a change to a function (from experience, this is very likely),\n",
    "all places making use of the function will automatically be updated.\n",
    "In other words, the code becomes more maintainable than if you had to change\n",
    "the code manually in many places at once."
   ]
  },
  {
   "cell_type": "markdown",
   "id": "138d2105",
   "metadata": {
    "editable": true
   },
   "source": [
    "# Exercise 2: Visualizing data\n",
    "\n",
    "To make figures, we suggest that you use [Matplotlib](https://matplotlib.org/).\n",
    "\n",
    "**Plotting with pandas?**\n",
    "\n",
    "Note that pandas have some built-in functionality to make plots.\n",
    "This functionality is [built on top of matplotlib](https://pandas.pydata.org/docs/getting_started/intro_tutorials/04_plotting.html),\n",
    "and it can sometimes be useful for quickly creating a figure without having to\n",
    "type so much. However, as you spend more time fine-tuning plots, you might\n",
    "conclude that it is better to work directly with matplotlib.\n",
    "\n",
    "**Part 1.**\n",
    "\n",
    "* Use the function you made in the previous exercise to inspect the data for Norway. Specifically, look at the columns `ELAPSED_TIME_SINCE_OUTBREAK` and `CONFIRMED`.\n",
    "\n",
    "* What kind of an object is each of the columns? (assuming all of the data are stored in a DataFrame)\n",
    "\n",
    "* Make a 2D [scatter plot](https://matplotlib.org/stable/api/_as_gen/matplotlib.pyplot.scatter.html) showing the number of confirmed cases of COVID-19 in Norway versus time.\n",
    "\n",
    "**Part 2.**\n",
    "\n",
    "* Create a new function which takes as one input argument the name of a country or province, and makes a scatter plot of the number of confirmed COVID-19 cases versus time for that country or province.\n",
    "\n",
    "* When writing this second function, try to re-use the one you made previously.\n",
    "\n",
    "Tip: For increased flexibility in making plots, it may be a good idea to\n",
    "return either a [figure](https://matplotlib.org/stable/api/figure_api.html)\n",
    "or [Axes](https://matplotlib.org/stable/api/axes_api.html) object from the\n",
    "function. If you do that, you can continue to customize the figure outside\n",
    "the function.\n",
    "\n",
    "**<font color=\"black\">Separation of concerns</font>.**\n",
    "\n",
    "It can be challenging to design good functions. A rule-of-thumb\n",
    "is that functions should not have too many responsibilities; ideally,\n",
    "[any one function should concentrate on doing one thing very well, and not too\n",
    "many things at once](https://en.wikipedia.org/wiki/Separation_of_concerns).\n",
    "As an example, when working with data it is almost always a good idea to separate\n",
    "the pre-processing of raw data from code that works with formatted data.\n",
    "Similarly, it is usually not a good idea to mix code that does mathematical model\n",
    "calculations with code that makes plots.\n",
    "\n",
    "Taken to the extreme, some advocates of [functional programming](https://en.wikipedia.org/wiki/Functional_programming)\n",
    "recommend always using *pure functions*, that is, functions which always return\n",
    "the same output given the same input, and which have no\n",
    "[side-effects](https://en.wikipedia.org/wiki/Side_effect_(computer_science)).\n",
    "In practice, this will most likely not be feasible to achieve, but it is worth\n",
    "thinking about.  If you are able to create a small library of reusable pure functions,\n",
    "life can become so much easier!\n",
    "\n",
    "**Part 3.**\n",
    "\n",
    "* Apply the function you just made to create a scatter plot for a different country than Norway. Include in this new figure a suitable title as well as axis labels; especially labels are important in order for others to understand what you are plotting.\n",
    "\n",
    "To add the title and labels, you have essentially three options:\n",
    "1. Use the input name of the country / province in the title and hard-code the rest inside the function.\n",
    "\n",
    "2. Let the user pass in a title and/or axis labels as additional function arguments.\n",
    "\n",
    "3. Do not change the function at all, instead modify the figure object after returning it from the function.\n",
    "\n",
    "Discuss advantages and drawbacks of each of the three mentioned approaches.\n",
    "\n",
    "**Part 4.**\n",
    "\n",
    "* Make a plot showing the number of confirmed cases since the time of the first outbreak in the Hubei province in China.\n",
    "\n",
    "* Compare it to the data for Norway, either in the same figure, or in two separate figures side-by-side.\n",
    "\n",
    "[Figure 2](#fig:hubei_vs_norway) shows a possible solution.\n",
    "\n",
    "<!-- dom:FIGURE: [fig-covid19/hubei_vs_norway.png, frac=1.0] COVID-19 data for Hubei and Norway. <div id=\"fig:hubei_vs_norway\"></div> -->\n",
    "<!-- begin figure -->\n",
    "<div id=\"fig:hubei_vs_norway\"></div>\n",
    "\n",
    "<img src=\"fig-covid19/hubei_vs_norway.png\" ><p style=\"font-size: 0.9em\"><i>Figure 2: COVID-19 data for Hubei and Norway.</i></p>\n",
    "<!-- end figure -->"
   ]
  },
  {
   "cell_type": "markdown",
   "id": "50145195",
   "metadata": {
    "editable": true
   },
   "source": [
    "# Modelling COVID-19: The SI-model\n",
    "\n",
    "Compartment models [[kermack1927contribution]](#kermack1927contribution) are widely used to study\n",
    "how an epidemic disease might spread in a population.\n",
    "In these models, the total population is partitioned into compartments based on\n",
    "a set of possible \"disease states\", such as \"Susceptible\", \"Infected\",\n",
    "\"Recovered\", and \"Dead\". Differential equations are set up\n",
    "to describe how individuals \"flow\" from one compartment to another.\n",
    "The equations can be either deterministic or stochastic.\n",
    "While stochastic models are more realistic, they are also more challenging\n",
    "to use and interpret. In this project, we will only consider deterministic\n",
    "models.\n",
    "\n",
    "We start by studying the SI-model, which consists of only two compartments:\n",
    "1. $S$ - Susceptible: people at risk of infection.\n",
    "\n",
    "2. $I$ - Infected.\n",
    "\n",
    "<!-- dom:FIGURE: [fig-covid19/SI.png, width=400 frac=1.0] The SI-model: All individuals are either \"Susceptible\" or \"Infected\". Once you become sick, there is no recovery. <div id=\"fig:human_zombies\"></div> -->\n",
    "<!-- begin figure -->\n",
    "<div id=\"fig:human_zombies\"></div>\n",
    "\n",
    "<img src=\"fig-covid19/SI.png\" width=\"400\"><p style=\"font-size: 0.9em\"><i>Figure 3: The SI-model: All individuals are either \"Susceptible\" or \"Infected\". Once you become sick, there is no recovery.</i></p>\n",
    "<!-- end figure -->\n",
    "\n",
    "Let $N$ denote the total population size. For each time $t$, let $S(t)$ denote\n",
    "the number of susceptible people, and $I(t)$ the number of infected people.\n",
    "To develop a model, we need to calculate the rate of flow between the\n",
    "two compartments in [figure 3](#fig:human_zombies).\n",
    "We start by making some observations:\n",
    "* During each time interval $\\Delta{t}$, a certain number of individuals will come into contact with each other.\n",
    "\n",
    "* We only care about susceptible (healthy) - infected encounters, because that is the only scenario in which the number of infected people can increase.\n",
    "\n",
    "* Whenever a healthy person meets an infected person, there is a certain probability that the healthy person becomes infected.\n",
    "\n",
    "We shall take our imagined population to be *well mixed*,\n",
    "meaning that pairs of individuals interact with equal probability.\n",
    "Let $\\mathcal{C}(N)$ denote the rate at which *any* individual in the\n",
    "population contacts *any* another individual, i.e., the average number of\n",
    "contacts made per unit time. Then, we can estimate the change in the healthy\n",
    "population from time $t$ to $t+\\Delta{t}$ as:"
   ]
  },
  {
   "cell_type": "markdown",
   "id": "f3dcf6e0",
   "metadata": {
    "editable": true
   },
   "source": [
    "<!-- Equation labels as ordinary links -->\n",
    "<div id=\"_auto1\"></div>\n",
    "\n",
    "$$\n",
    "\\begin{equation}\n",
    "S(t+\\Delta t)-S(t) = -\\mathcal{C}(N)\\cdot{\\Delta t}\n",
    "\\cdot{p}\\cdot{q}\\cdot{S(t)}\\,.\n",
    "\\label{_auto1} \\tag{1}\n",
    "\\end{equation}\n",
    "$$"
   ]
  },
  {
   "cell_type": "markdown",
   "id": "f0eb73cd",
   "metadata": {
    "editable": true
   },
   "source": [
    "where $p$ denotes the conditional probability that a given contact is between a\n",
    "susceptible and infected individual, and $q$ is the probability that such an\n",
    "encounter leads to disease transmission.\n",
    "Because of the well-mixed condition, we can assume that $p=I(t)/N$.\n",
    "Thus, the remaining challenge is to estimate $\\mathcal{C}(N)$ and $q$.\n",
    "In principle, both of these parameters may vary in time, but for now we shall\n",
    "regard them as constant. By merging the two factors into a single transmission\n",
    "rate, $\\beta$, we get"
   ]
  },
  {
   "cell_type": "markdown",
   "id": "6a551db8",
   "metadata": {
    "editable": true
   },
   "source": [
    "<!-- Equation labels as ordinary links -->\n",
    "<div id=\"_auto2\"></div>\n",
    "\n",
    "$$\n",
    "\\begin{equation}\n",
    "S(t+\\Delta t)-S(t) = -\\beta\\cdot{\\Delta t}\\cdot\\frac{S(t)I(t)}{N}\\,,\n",
    "\\label{_auto2} \\tag{2}\n",
    "\\end{equation}\n",
    "$$"
   ]
  },
  {
   "cell_type": "markdown",
   "id": "fc8f2beb",
   "metadata": {
    "editable": true
   },
   "source": [
    "Finally, by dividing by $\\Delta t$ and letting $\\Delta t \\rightarrow 0$,\n",
    "we obtain the following ordinary differential equation (ODE):"
   ]
  },
  {
   "cell_type": "markdown",
   "id": "b9a7fd95",
   "metadata": {
    "editable": true
   },
   "source": [
    "<!-- Equation labels as ordinary links -->\n",
    "<div id=\"eq:SZ_humans\"></div>\n",
    "\n",
    "$$\n",
    "\\begin{equation}\n",
    "\\label{eq:SZ_humans} \\tag{3}\n",
    "\\frac{\\mathrm{d}S(t)}{\\mathrm{d}t} =-\\beta\\cdot\\frac{S(t)I(t)}{N} \\,.\n",
    "\\end{equation}\n",
    "$$"
   ]
  },
  {
   "cell_type": "markdown",
   "id": "379ab1e0",
   "metadata": {
    "editable": true
   },
   "source": [
    "Similarly, the evolution of the sick population is given by:"
   ]
  },
  {
   "cell_type": "markdown",
   "id": "90588c62",
   "metadata": {
    "editable": true
   },
   "source": [
    "<!-- Equation labels as ordinary links -->\n",
    "<div id=\"eq:SZ_zombies\"></div>\n",
    "\n",
    "$$\n",
    "\\begin{equation}\n",
    "\\label{eq:SZ_zombies} \\tag{4}\n",
    "\\frac{\\mathrm{d}I(t)}{\\mathrm{d}t} =+\\beta\\cdot\\frac{S(t)I(t)}{N} \\,.\n",
    "\\end{equation}\n",
    "$$"
   ]
  },
  {
   "cell_type": "markdown",
   "id": "fa480154",
   "metadata": {
    "editable": true
   },
   "source": [
    "This last equation can also be derived at once from the relation $N=S(t)+I(t)$.\n",
    "\n",
    "**<font color=\"black\">How to interpret $\\beta$?</font>.**\n",
    "\n",
    "<font color=\"black\">By saying that $\\beta$ is constant, we have several\n",
    "very strong assumptions:</font>\n",
    "\n",
    "* <font color=\"black\">People make the same number of contacts regardless of the population size.</font>\n",
    "\n",
    "* <font color=\"black\">People make the same number of contacts independent of time.</font>\n",
    "\n",
    "* <font color=\"black\">The probability of becoming infected never changes.</font>\n",
    "\n",
    "<font color=\"black\">In reality, $\\beta$ is time-dependent,\n",
    "as it implicitly accounts for a lot of biomedical, physical, and sociological\n",
    "factors.\n",
    "For example, in the beginning of an outbreak, $\\beta$ is likely to be\n",
    "large, because people might not yet understand the severity of the situation,\n",
    "or they may be in denial. As people start to realize the danger\n",
    "and fight back against the disease, $\\beta$ will most likely decrease.\n",
    "However, as we have seen with COVID-19, new strains of the virus may appear\n",
    "and cause transmission rates to go up again.\n",
    "Another complication is that people perceive the threat from the virus very\n",
    "differently, and at least in in some countries, this seems to be influenced\n",
    "by political factors.\n",
    "</font>"
   ]
  },
  {
   "cell_type": "markdown",
   "id": "8152da0d",
   "metadata": {
    "editable": true
   },
   "source": [
    "# Exercise 3: [OPTIONAL] Analytical solution\n",
    "<div id=\"exercise:no_hope\"></div>\n",
    "\n",
    "Clearly, if there are no infected individuals at time zero,\n",
    "the above equations predict that nothing will happen later either.\n",
    "We shall therefore assume that the initial number of sick is close\n",
    "to one; typically $I_0=I(0)=1$.\n",
    "\n",
    "**Part 1.**\n",
    "\n",
    "* Show that the analytical solution to the SI-model, equations ([3](#eq:SZ_humans)) and ([4](#eq:SZ_zombies)), is"
   ]
  },
  {
   "cell_type": "markdown",
   "id": "9c1b7aa9",
   "metadata": {
    "editable": true
   },
   "source": [
    "<!-- Equation labels as ordinary links -->\n",
    "<div id=\"eq:SZ_analytical_sol_humans\"></div>\n",
    "\n",
    "$$\n",
    "\\begin{equation}\n",
    "\\label{eq:SZ_analytical_sol_humans} \\tag{5}\n",
    "S(t) =\\frac{(S_0+I_0)\\frac{S_0}{I_0}\\exp(-\\beta{t})}{1+\\frac{S_0}{I_0}\\exp(-\\beta{t})} \\,, \n",
    "\\end{equation}\n",
    "$$"
   ]
  },
  {
   "cell_type": "markdown",
   "id": "86da0fd5",
   "metadata": {
    "editable": true
   },
   "source": [
    "<!-- Equation labels as ordinary links -->\n",
    "<div id=\"eq:SZ_analytical_sol_zombies\"></div>\n",
    "\n",
    "$$\n",
    "\\begin{equation}  \n",
    "\\label{eq:SZ_analytical_sol_zombies} \\tag{6}\n",
    "I(t) =\\frac{S_0+I_0}{1+\\frac{S_0}{I_0}\\exp(-\\beta{t})}\\,,\n",
    "\\end{equation}\n",
    "$$"
   ]
  },
  {
   "cell_type": "markdown",
   "id": "8806aa3f",
   "metadata": {
    "editable": true
   },
   "source": [
    "where $S_0=S(0)$, and thus $S_0+I_0=N$.\n",
    "\n",
    "Hint: A good way to start is to insert $I(t)=N-S(t)$ into equation ([3](#eq:SZ_humans))."
   ]
  },
  {
   "cell_type": "markdown",
   "id": "3f706d0c",
   "metadata": {
    "editable": true
   },
   "source": [
    "# Exercise 4: Is the model any good?\n",
    "\n",
    "\"All models are wrong, but some are useful\" is a famous quote attributed to G. E. Box [[box1976science]](#box1976science).\n",
    "The only way we can investigate if a model is useful is to compare it with data.\n",
    "Clearly, the $SI$-model presented above is very simple - it contains a *single* parameter, $\\beta$.\n",
    "Can the model still be useful? That is, can we use it to learn something about\n",
    "the spread of a virus, and can this insight lead to, e.g., preventive measures?\n",
    "\n",
    "**Part 1.**\n",
    "\n",
    "* Make a Python function that finds the solution to both equation ([5](#eq:SZ_analytical_sol_humans)) and equation ([6](#eq:SZ_analytical_sol_zombies)) as a function of time.\n",
    "\n",
    "* The function should not contain any hard-coded parameters.\n",
    "\n",
    "To be able to do this, the function need to take as input the initial condition\n",
    "as well as the desired report times at which to calculate the solutions.\n",
    "For example, one possible function signature could be:"
   ]
  },
  {
   "cell_type": "code",
   "execution_count": 4,
   "id": "fa8ae546",
   "metadata": {
    "collapsed": false,
    "editable": true
   },
   "outputs": [],
   "source": [
    "def calc_SI_model(report_times, S0, I0, beta):\n",
    "    \"\"\"\n",
    "    :param report_times: A list or array of times at which to compute solutions.\n",
    "    :param S0: The initial number of susceptible people: S0=S(0).\n",
    "    :param I0: The initial number of infected people: I0=I(0).\n",
    "    :param beta: The disease transmission rate.\n",
    "    :return: A tuple that holds S(t) and I(t).\n",
    "    \"\"\"\n",
    "    pass  # Type your code here..."
   ]
  },
  {
   "cell_type": "markdown",
   "id": "48057668",
   "metadata": {
    "editable": true
   },
   "source": [
    "The string surrounded by triple quotes which immediately follows the function\n",
    "definition is an example of a [docstring](https://peps.python.org/pep-0257/).\n",
    "It is regarded as [good practice](https://realpython.com/documenting-python-code/)\n",
    "to document your (non-obvious) Python functions with docstrings.\n",
    "This way, users of your code may easily learn about how the function is\n",
    "supposed to work by typing `help(name_of_function)`.\n",
    "\n",
    "Assuming we finished implementing the above function, it can be invoked like this:"
   ]
  },
  {
   "cell_type": "code",
   "execution_count": 5,
   "id": "5a5f57ef",
   "metadata": {
    "collapsed": false,
    "editable": true
   },
   "outputs": [],
   "source": [
    "St, It = calc_SI_model(report_times, S0, I0, beta)\n",
    "# Continue to use St and It in the code below..."
   ]
  },
  {
   "cell_type": "markdown",
   "id": "aae72e02",
   "metadata": {
    "editable": true
   },
   "source": [
    "**Part 2.**\n",
    "\n",
    "* Make an example figure where you plot the analytical solution to the $SI$-model together with the actual number of confirmed cases observed for a given country (in the same figure).\n",
    "\n",
    "* Try to re-use the functions you made earlier when you do this (to do so, you may find that you have to change something).\n",
    "\n",
    "**Part 3.**\n",
    "\n",
    "Let us first consider the Hubei province in China where the city of Wuhan is located.\n",
    "\n",
    "* Assume for simplicity that $I_0=1$. Adjust $S_0$ and $\\beta$ to investigate whether it is possible to match the reported number of confirmed cases in Hubei with the $SI$ model.\n",
    "\n",
    "**Part 4.**\n",
    "\n",
    "In the database there are also data from the Corona virus outbreak aboard the cruise ship \"Diamond Princess\".\n",
    "There were 3711 people on the ship, of which 712 were infected [[WikiDiamondPrincess]](#WikiDiamondPrincess).\n",
    "\n",
    "* Let $S_0=711$ and $I_0=1$. Run the SI-model with the same $\\beta$ value you found for Hubei. What do you observe? (You should be able to generate curves similar to the ones shown in [figure 4](#fig:hd)).\n",
    "\n",
    "**Part 5.**\n",
    "\n",
    "* Do the same for Norway. Which value of $\\beta$ do you need to use in order to find a reasonable match for Norway?\n",
    "\n",
    "* Does the model fit the data better or worse in this case than it did for Hubei?\n",
    "\n",
    "<!-- dom:FIGURE: [fig-covid19/hubei_diamond_princess.png, frac=1.0] COVID-19 data (black circles) and model (red, solid lines) for Hubei and Diamond Princess. <div id=\"fig:hd\"></div> -->\n",
    "<!-- begin figure -->\n",
    "<div id=\"fig:hd\"></div>\n",
    "\n",
    "<img src=\"fig-covid19/hubei_diamond_princess.png\" ><p style=\"font-size: 0.9em\"><i>Figure 4: COVID-19 data (black circles) and model (red, solid lines) for Hubei and Diamond Princess.</i></p>\n",
    "<!-- end figure -->"
   ]
  },
  {
   "cell_type": "markdown",
   "id": "0bf02898",
   "metadata": {
    "editable": true
   },
   "source": [
    "# Exercise 5: Extending the model\n",
    "\n",
    "When doing exercise 4 you might have noticed that the $SI$-model\n",
    "works quite well in situations where the disease initially spreads quickly,\n",
    "and then stabilizes.\n",
    "However, a clear weakness with our approach is that we tuned the number $S_0$ to\n",
    "the data, essentially setting it equal to the final number of confirmed cases.\n",
    "In reality, $S_0$ should be the total population of a country, or at\n",
    "least the total number of people in a city where there is a large outbreak.\n",
    "In just Wuhan there are 11 million people, and in the entire Hubei province\n",
    "there are 58.5 million people. Setting $S_0$ to 11 or 58.5 million would not\n",
    "work in the model, though, because that would greatly exaggerate the number of infected people.\n",
    "\n",
    "There are several shortcomings with the model. One obvious problem is\n",
    "our assumption about a constant disease transmission rate, $\\beta$, which\n",
    "results in the model predicting that everyone who is susceptible will be infected eventually.\n",
    "In many countries, including China, drastic counter-measures were taken once\n",
    "the spread of the virus became widely known, which means that $\\beta$ should\n",
    "decrease as a function of time.\n",
    "To capture this behavior, and thus create a slightly more realistic model,\n",
    "we will now assume that $\\beta$ declines exponentially:"
   ]
  },
  {
   "cell_type": "markdown",
   "id": "6d276cf5",
   "metadata": {
    "editable": true
   },
   "source": [
    "<!-- Equation labels as ordinary links -->\n",
    "<div id=\"eq:p3:betaT\"></div>\n",
    "\n",
    "$$\n",
    "\\begin{equation}\n",
    "\\beta(t)=\\beta_0 e^{-\\lambda t}.\n",
    "\\label{eq:p3:betaT} \\tag{7}\n",
    "\\end{equation}\n",
    "$$"
   ]
  },
  {
   "cell_type": "markdown",
   "id": "755bf5c3",
   "metadata": {
    "editable": true
   },
   "source": [
    "**Analytical solution for the extended SI-model.**\n",
    "\n",
    "It turns out that we can still use equations ([5](#eq:SZ_analytical_sol_humans))\n",
    "and ([6](#eq:SZ_analytical_sol_zombies)) to compute the analytical solution,\n",
    "provided we replace the product of of the constant $\\beta$-parameter and time\n",
    "as follows:"
   ]
  },
  {
   "cell_type": "markdown",
   "id": "4e7afd45",
   "metadata": {
    "editable": true
   },
   "source": [
    "<!-- Equation labels as ordinary links -->\n",
    "<div id=\"eq:l\"></div>\n",
    "\n",
    "$$\n",
    "\\begin{equation}\n",
    "\\beta t \\to \\int_0^t\\beta_0e^{-\\lambda t}dt=\\frac{\\beta_0}{\\lambda}(1-e^{-\\lambda t}).\n",
    "\\label{eq:l} \\tag{8}\n",
    "\\end{equation}\n",
    "$$"
   ]
  },
  {
   "cell_type": "markdown",
   "id": "6443996a",
   "metadata": {
    "editable": true
   },
   "source": [
    "In the above expression, $\\beta_0=\\beta(0)$ is the initial disease transmission\n",
    "rate. The magnitude of the factor $\\lambda$ determines how fast $\\beta$ decreases,\n",
    "i.e., a high value indicates strong disease-prevention measures.\n",
    "\n",
    "**Part 1.**\n",
    "\n",
    "* Make a function that plots the number of confirmed cases for a given country, as well as the extended analytical solution with $\\beta_0$ and $\\lambda$ as input parameters.\n",
    "\n",
    "Tip: Instead of creating a completely new function, you might want to modify your previous one to always use both $\\beta$ and $\\lambda$ as input arguments, but let $\\lambda=0$ by default (this way, the code stays [backwards-compatible](https://en.wikipedia.org/wiki/Backward_compatibility)).\n",
    "\n",
    "<!--  -->\n",
    "<!-- Population data can be found in the `data` folder. -->\n",
    "<!--  -->\n",
    "\n",
    "**Part 2.**\n",
    "\n",
    "* Tune $\\lambda$ and $\\beta_0$ to match the Hubei data. This is quite difficult, but one strategy is to first adjust $\\beta_0$ to match the initial rise in the confirmed cases (For Hubei, a value for $\\beta_0$ close to 2 gives a decent match). Next, adjust $\\lambda$ to match the data.\n",
    "\n",
    "Tip: If/when you have time, it is worth familiarizing yourself with some of the existing Python functions to do curve-fitting, e.g.,  [`scipy.optimize.curve_fit`](https://docs.scipy.org/doc/scipy/reference/generated/scipy.optimize.curve_fit.html). This will become very useful later in the course.\n",
    "\n",
    "**Part 3.**\n",
    "\n",
    "* Use the $\\beta-$ and $\\lambda-$ values you found for Hubei to predict the disease outbreak in Norway (You need to reduce $S_0$ to 5.4 million, which is the population of Norway). What do you observe? Do the results match your expectations?\n",
    "\n",
    "**Part 4.**\n",
    "\n",
    "* How do you need to change $\\lambda$ and $\\beta$ to improve the match for Norway? If we assume that the value of $\\lambda$ represents the government response, do the different values ($\\lambda_\\text{Norway}$, $\\lambda_\\text{Hubei}$) match your expectations?\n",
    "\n",
    "**Part 5.**\n",
    "\n",
    "* In light of what has happened during the entire course of the pandemic, write a paragraph or two where you reflect on the challenges with modelling disease outbreaks. Are there any important aspects that we have not touched upon in this project?"
   ]
  },
  {
   "cell_type": "markdown",
   "id": "310f76c6",
   "metadata": {
    "editable": true
   },
   "source": [
    "# Bibliography\n",
    "1. <div id=\"xiao2021animal\"></div> **X. Xiao, C. Newman, C. D. Buesching, D. W. Macdonald and Z.-M. Zhou**.  Animal Sales From Wuhan Wet Markets Immediately Prior to the COVID-19 Pandemic, *Scientific reports*, 11(1), pp. 1-7, 2021.\n",
    "\n",
    "2. <div id=\"pekar2022molecular\"></div> **J. E. Pekar, A. Magee, E. Parker, N. Moshiri, K. Izhikevich, J. L. Havens, K. Gangavarapu, L. M. M. Serrano, A. Crits-Christoph, N. L. Matteson et al.**.  The Molecular Epidemiology of Multiple Zoonotic Origins of SARS-CoV-2, *Science*, pp. eabp8337, 2022.\n",
    "\n",
    "3. <div id=\"worobey2022huanan\"></div> **M. Worobey, J. I. Levy, L. M. Serrano, A. Crits-Christoph, J. E. Pekar, S. A. Goldstein, A. L. Rasmussen, M. U. Kraemer, C. Newman, M. P. Koopmans et al.**.  The Huanan Seafood Wholesale Market in Wuhan Was the Early Epicenter of the COVID-19 Pandemic, *Science*, pp. abp8715, 2022.\n",
    "\n",
    "4. <div id=\"kermack1927contribution\"></div> **W. O. Kermack and A. G. McKendrick**.  A Contribution to the Mathematical Theory of Epidemics, Part I, *Proceedings of the Royal Society of London. Series A, Containing papers of a mathematical and physical character*, 115(772), pp. 700-721, 1927.\n",
    "\n",
    "5. <div id=\"box1976science\"></div> **G. E. Box**.  Science and Statistics, *Journal of the American Statistical Association*, 71(356), pp. 791-799, 1976.\n",
    "\n",
    "6. <div id=\"WikiDiamondPrincess\"></div> **Wikipedia**.  COVID-19 Pandemic on Diamond Princess, 2021, Accessed: 2022-08-13, <https://en.wikipedia.org/wiki/COVID-19_pandemic_on_Diamond_Princess>."
   ]
  }
 ],
 "metadata": {},
 "nbformat": 4,
 "nbformat_minor": 5
}
